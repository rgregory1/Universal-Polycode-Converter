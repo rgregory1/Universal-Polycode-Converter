{
  "nbformat": 4,
  "nbformat_minor": 0,
  "metadata": {
    "colab": {
      "name": "Universal Polycode Converter.ipynb",
      "provenance": [],
      "collapsed_sections": []
    },
    "kernelspec": {
      "name": "python3",
      "display_name": "Python 3"
    }
  },
  "cells": [
    {
      "cell_type": "markdown",
      "metadata": {
        "id": "UknuawfzZWIQ"
      },
      "source": [
        "# First, Import the necessary packages for dealing with python and geocodes"
      ]
    },
    {
      "cell_type": "code",
      "metadata": {
        "id": "jofEwI9gXLuI"
      },
      "source": [
        "import pandas as pd\n",
        "import numpy as np\n",
        "\n",
        "!pip install geopandas\n",
        "!pip install polyline\n",
        "\n",
        "import geopandas as gpd\n",
        "import polyline"
      ],
      "execution_count": null,
      "outputs": []
    },
    {
      "cell_type": "markdown",
      "metadata": {
        "id": "J0wjwVAeXmzo"
      },
      "source": [
        "## Get shapefile from VT Data - Town Boundries site\n",
        "\n",
        "\n",
        "http://geodata.vermont.gov/datasets/0e4a5d2d58ac40bf87cd8aa950138ae8_39/data"
      ]
    },
    {
      "cell_type": "markdown",
      "metadata": {
        "id": "gNnB4uCCZkIh"
      },
      "source": [
        "# 'Mount' your google drive so Colab can retrieve the files it needs"
      ]
    },
    {
      "cell_type": "code",
      "metadata": {
        "id": "6uXnmsVEXrlT"
      },
      "source": [
        "from google.colab import drive\n",
        "drive.mount('/gdrive')\n",
        "%cd /gdrive"
      ],
      "execution_count": null,
      "outputs": []
    },
    {
      "cell_type": "markdown",
      "metadata": {
        "id": "PITVLVkZaDsF"
      },
      "source": [
        "# This step will find your data, be sure to upload it to the same path below.  Then it does a quick test to show that the data has been successfully ingested. \n",
        "You should see the output '**geopandas.geodataframe.GeoDataFrame**' if successful."
      ]
    },
    {
      "cell_type": "code",
      "metadata": {
        "id": "67iglDnFYe3w"
      },
      "source": [
        "RawDistricts = gpd.read_file(\n",
        "    \"/gdrive/My Drive/Colab Notebooks/towns/Isle_La_Motte/VT_Data_-_Town_Boundaries.shp\"\n",
        ")\n",
        "\n",
        "RawDistricts = RawDistricts.to_crs(epsg=4326)\n",
        "type(RawDistricts)"
      ],
      "execution_count": null,
      "outputs": []
    },
    {
      "cell_type": "markdown",
      "metadata": {
        "id": "deiIZECTatFD"
      },
      "source": [
        "# Let's see those coordinates"
      ]
    },
    {
      "cell_type": "code",
      "metadata": {
        "id": "1MY1xYbxYwKc"
      },
      "source": [
        "Districts_Dict = RawDistricts.to_dict()\n",
        "Districts_shape = Districts_Dict[\"geometry\"][0]\n",
        "Districts_shape_list = list(Districts_shape.exterior.coords)\n",
        "Districts_shape_list"
      ],
      "execution_count": null,
      "outputs": []
    },
    {
      "cell_type": "markdown",
      "metadata": {
        "id": "EjFEWKrwazfZ"
      },
      "source": [
        "# Finally\n",
        "Copy this long string and enter it in the District Boundry field for the District of Residence."
      ]
    },
    {
      "cell_type": "code",
      "metadata": {
        "id": "3rGZYUkoYzr8"
      },
      "source": [
        "final_polyline = polyline.encode(Districts_shape_list, 5, geojson=True)\n",
        "print(final_polyline)"
      ],
      "execution_count": null,
      "outputs": []
    }
  ]
}